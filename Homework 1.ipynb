{
 "cells": [
  {
   "cell_type": "code",
   "execution_count": 1,
   "metadata": {},
   "outputs": [],
   "source": [
    "#modification",
    "import numpy as np\n",
    "import matplotlib.pyplot as plt\n",
    "from numpy.linalg import lstsq, inv\n",
    "import scipy as sp\n",
    "from scipy import sparse\n"
   ]
  },
  {
   "cell_type": "markdown",
   "metadata": {},
   "source": [
    "**Exercise 1:** Using the standard linear algebra method of this Section, fit\n",
    "the straight line y = m x + b to the x, y, and σy values for data points 5\n",
    "through 20 in Table 1 on page 6. That is, ignore the first four data points,\n",
    "and also ignore the columns for $σ_x$ and $ρ_{xy}$. Make a plot showing the points,\n",
    "their uncertainties, and the best-fit line. Your plot should end up looking\n",
    "like Figure 1. What is the standard uncertainty variance $σ_m^2$ on the slope of the line?"
   ]
  },
  {
   "cell_type": "code",
   "execution_count": 2,
   "metadata": {},
   "outputs": [
    {
     "name": "stdout",
     "output_type": "stream",
     "text": [
      "(4, 20)\n"
     ]
    }
   ],
   "source": [
    "#data = np.loadtxt('data (1).txt', dtype = int, usecols = (0,1,2,3)) #, usecols = (0,1,2,3), unpack=True\n",
    "data1 = np.loadtxt('data (1).txt', dtype = int, usecols = (0,1,2,3), unpack=True)\n",
    "#print(data)\n",
    "print(data1.shape)"
   ]
  },
  {
   "cell_type": "code",
   "execution_count": 3,
   "metadata": {},
   "outputs": [
    {
     "name": "stdout",
     "output_type": "stream",
     "text": [
      "(16,)\n"
     ]
    }
   ],
   "source": [
    "x1data=data1[0][4:]\n",
    "y1data=data1[1][4:]\n",
    "sigy1data=data1[2][4:]\n",
    "print(sigy1data.shape)"
   ]
  },
  {
   "cell_type": "markdown",
   "metadata": {},
   "source": [
    "**Doing it with polyfit**"
   ]
  },
  {
   "cell_type": "code",
   "execution_count": 4,
   "metadata": {},
   "outputs": [
    {
     "name": "stdout",
     "output_type": "stream",
     "text": [
      "2.2399208316310952 34.04772775754198\n"
     ]
    },
    {
     "data": {
      "image/png": "[encoded data removed]",
      "text/plain": [
       "<Figure size 432x288 with 1 Axes>"
      ]
     },
     "metadata": {
      "needs_background": "light"
     },
     "output_type": "display_data"
    }
   ],
   "source": [
    "m, b = np.polyfit(x1data, y1data, 1, w=1/sigy1data)\n",
    "print(m,b)\n",
    "x1 = np.linspace(0,300,300)\n",
    "y1 = m*x1+b\n",
    "\n",
    "plt.plot(x1, y1, \"-r\", label='y= '+str(m)+'x + '+str(b))  \n",
    "plt.scatter(x1data, y1data)\n",
    "plt.errorbar(x1data,y1data,yerr=sigy1data, ls='none') \n",
    "plt.title(\"Polyline Fit to Data 5:20\")\n",
    "plt.xlabel('x')\n",
    "plt.ylabel('y')\n",
    "plt.legend(loc='upper left')\n",
    "plt.grid()\n",
    "plt.show()"
   ]
  },
  {
   "cell_type": "code",
   "execution_count": 5,
   "metadata": {},
   "outputs": [
    {
     "name": "stdout",
     "output_type": "stream",
     "text": [
      "[[ 3.74639140e-02 -6.28457158e+00]\n",
      " [-6.28457158e+00  1.11290771e+03]]\n",
      "0.19355597126922053 33.36027147204117\n"
     ]
    }
   ],
   "source": [
    "p, cov = np.polyfit(x1data, y1data, 1, cov=True)\n",
    "print(cov)\n",
    "uncertainm,uncertainb =(np.sqrt(np.diag(cov)))\n",
    "print(uncertainm,uncertainb)"
   ]
  },
  {
   "cell_type": "code",
   "execution_count": 6,
   "metadata": {},
   "outputs": [
    {
     "name": "stdout",
     "output_type": "stream",
     "text": [
      "@array_function_dispatch(_polyfit_dispatcher)\n",
      "def polyfit(x, y, deg, rcond=None, full=False, w=None, cov=False):\n",
      "    \"\"\"\n",
      "    Least squares polynomial fit.\n",
      "\n",
      "    Fit a polynomial ``p(x) = p[0] * x**deg + ... + p[deg]`` of degree `deg`\n",
      "    to points `(x, y)`. Returns a vector of coefficients `p` that minimises\n",
      "    the squared error in the order `deg`, `deg-1`, ... `0`.\n",
      "\n",
      "    The `Polynomial.fit <numpy.polynomial.polynomial.Polynomial.fit>` class\n",
      "    method is recommended for new code as it is more stable numerically. See\n",
      "    the documentation of the method for more information.\n",
      "\n",
      "    Parameters\n",
      "    ----------\n",
      "    x : array_like, shape (M,)\n",
      "        x-coordinates of the M sample points ``(x[i], y[i])``.\n",
      "    y : array_like, shape (M,) or (M, K)\n",
      "        y-coordinates of the sample points. Several data sets of sample\n",
      "        points sharing the same x-coordinates can be fitted at once by\n",
      "        passing in a 2D-array that contains one dataset per column.\n",
      "    deg : int\n",
      "        Degree of the fitting polynomial\n",
      "    rcond : float, optional\n",
      "        Relative condition number of the fit. Singular values smaller than\n",
      "        this relative to the largest singular value will be ignored. The\n",
      "        default value is len(x)*eps, where eps is the relative precision of\n",
      "        the float type, about 2e-16 in most cases.\n",
      "    full : bool, optional\n",
      "        Switch determining nature of return value. When it is False (the\n",
      "        default) just the coefficients are returned, when True diagnostic\n",
      "        information from the singular value decomposition is also returned.\n",
      "    w : array_like, shape (M,), optional\n",
      "        Weights to apply to the y-coordinates of the sample points. For\n",
      "        gaussian uncertainties, use 1/sigma (not 1/sigma**2).\n",
      "    cov : bool or str, optional\n",
      "        If given and not `False`, return not just the estimate but also its\n",
      "        covariance matrix. By default, the covariance are scaled by\n",
      "        chi2/sqrt(N-dof), i.e., the weights are presumed to be unreliable\n",
      "        except in a relative sense and everything is scaled such that the\n",
      "        reduced chi2 is unity. This scaling is omitted if ``cov='unscaled'``,\n",
      "        as is relevant for the case that the weights are 1/sigma**2, with\n",
      "        sigma known to be a reliable estimate of the uncertainty.\n",
      "\n",
      "    Returns\n",
      "    -------\n",
      "    p : ndarray, shape (deg + 1,) or (deg + 1, K)\n",
      "        Polynomial coefficients, highest power first.  If `y` was 2-D, the\n",
      "        coefficients for `k`-th data set are in ``p[:,k]``.\n",
      "\n",
      "    residuals, rank, singular_values, rcond\n",
      "        Present only if `full` = True.  Residuals is sum of squared residuals\n",
      "        of the least-squares fit, the effective rank of the scaled Vandermonde\n",
      "        coefficient matrix, its singular values, and the specified value of\n",
      "        `rcond`. For more details, see `linalg.lstsq`.\n",
      "\n",
      "    V : ndarray, shape (M,M) or (M,M,K)\n",
      "        Present only if `full` = False and `cov`=True.  The covariance\n",
      "        matrix of the polynomial coefficient estimates.  The diagonal of\n",
      "        this matrix are the variance estimates for each coefficient.  If y\n",
      "        is a 2-D array, then the covariance matrix for the `k`-th data set\n",
      "        are in ``V[:,:,k]``\n",
      "\n",
      "\n",
      "    Warns\n",
      "    -----\n",
      "    RankWarning\n",
      "        The rank of the coefficient matrix in the least-squares fit is\n",
      "        deficient. The warning is only raised if `full` = False.\n",
      "\n",
      "        The warnings can be turned off by\n",
      "\n",
      "        >>> import warnings\n",
      "        >>> warnings.simplefilter('ignore', np.RankWarning)\n",
      "\n",
      "    See Also\n",
      "    --------\n",
      "    polyval : Compute polynomial values.\n",
      "    linalg.lstsq : Computes a least-squares fit.\n",
      "    scipy.interpolate.UnivariateSpline : Computes spline fits.\n",
      "\n",
      "    Notes\n",
      "    -----\n",
      "    The solution minimizes the squared error\n",
      "\n",
      "    .. math ::\n",
      "        E = \\\\sum_{j=0}^k |p(x_j) - y_j|^2\n",
      "\n",
      "    in the equations::\n",
      "\n",
      "        x[0]**n * p[0] + ... + x[0] * p[n-1] + p[n] = y[0]\n",
      "        x[1]**n * p[0] + ... + x[1] * p[n-1] + p[n] = y[1]\n",
      "        ...\n",
      "        x[k]**n * p[0] + ... + x[k] * p[n-1] + p[n] = y[k]\n",
      "\n",
      "    The coefficient matrix of the coefficients `p` is a Vandermonde matrix.\n",
      "\n",
      "    `polyfit` issues a `RankWarning` when the least-squares fit is badly\n",
      "    conditioned. This implies that the best fit is not well-defined due\n",
      "    to numerical error. The results may be improved by lowering the polynomial\n",
      "    degree or by replacing `x` by `x` - `x`.mean(). The `rcond` parameter\n",
      "    can also be set to a value smaller than its default, but the resulting\n",
      "    fit may be spurious: including contributions from the small singular\n",
      "    values can add numerical noise to the result.\n",
      "\n",
      "    Note that fitting polynomial coefficients is inherently badly conditioned\n",
      "    when the degree of the polynomial is large or the interval of sample points\n",
      "    is badly centered. The quality of the fit should always be checked in these\n",
      "    cases. When polynomial fits are not satisfactory, splines may be a good\n",
      "    alternative.\n",
      "\n",
      "    References\n",
      "    ----------\n",
      "    .. [1] Wikipedia, \"Curve fitting\",\n",
      "           https://en.wikipedia.org/wiki/Curve_fitting\n",
      "    .. [2] Wikipedia, \"Polynomial interpolation\",\n",
      "           https://en.wikipedia.org/wiki/Polynomial_interpolation\n",
      "\n",
      "    Examples\n",
      "    --------\n",
      "    >>> import warnings\n",
      "    >>> x = np.array([0.0, 1.0, 2.0, 3.0,  4.0,  5.0])\n",
      "    >>> y = np.array([0.0, 0.8, 0.9, 0.1, -0.8, -1.0])\n",
      "    >>> z = np.polyfit(x, y, 3)\n",
      "    >>> z\n",
      "    array([ 0.08703704, -0.81349206,  1.69312169, -0.03968254]) # may vary\n",
      "\n",
      "    It is convenient to use `poly1d` objects for dealing with polynomials:\n",
      "\n",
      "    >>> p = np.poly1d(z)\n",
      "    >>> p(0.5)\n",
      "    0.6143849206349179 # may vary\n",
      "    >>> p(3.5)\n",
      "    -0.34732142857143039 # may vary\n",
      "    >>> p(10)\n",
      "    22.579365079365115 # may vary\n",
      "\n",
      "    High-order polynomials may oscillate wildly:\n",
      "\n",
      "    >>> with warnings.catch_warnings():\n",
      "    ...     warnings.simplefilter('ignore', np.RankWarning)\n",
      "    ...     p30 = np.poly1d(np.polyfit(x, y, 30))\n",
      "    ...\n",
      "    >>> p30(4)\n",
      "    -0.80000000000000204 # may vary\n",
      "    >>> p30(5)\n",
      "    -0.99999999999999445 # may vary\n",
      "    >>> p30(4.5)\n",
      "    -0.10547061179440398 # may vary\n",
      "\n",
      "    Illustration:\n",
      "\n",
      "    >>> import matplotlib.pyplot as plt\n",
      "    >>> xp = np.linspace(-2, 6, 100)\n",
      "    >>> _ = plt.plot(x, y, '.', xp, p(xp), '-', xp, p30(xp), '--')\n",
      "    >>> plt.ylim(-2,2)\n",
      "    (-2, 2)\n",
      "    >>> plt.show()\n",
      "\n",
      "    \"\"\"\n",
      "    order = int(deg) + 1\n",
      "    x = NX.asarray(x) + 0.0\n",
      "    y = NX.asarray(y) + 0.0\n",
      "\n",
      "    # check arguments.\n",
      "    if deg < 0:\n",
      "        raise ValueError(\"expected deg >= 0\")\n",
      "    if x.ndim != 1:\n",
      "        raise TypeError(\"expected 1D vector for x\")\n",
      "    if x.size == 0:\n",
      "        raise TypeError(\"expected non-empty vector for x\")\n",
      "    if y.ndim < 1 or y.ndim > 2:\n",
      "        raise TypeError(\"expected 1D or 2D array for y\")\n",
      "    if x.shape[0] != y.shape[0]:\n",
      "        raise TypeError(\"expected x and y to have same length\")\n",
      "\n",
      "    # set rcond\n",
      "    if rcond is None:\n",
      "        rcond = len(x)*finfo(x.dtype).eps\n",
      "\n",
      "    # set up least squares equation for powers of x\n",
      "    lhs = vander(x, order)\n",
      "    rhs = y\n",
      "\n",
      "    # apply weighting\n",
      "    if w is not None:\n",
      "        w = NX.asarray(w) + 0.0\n",
      "        if w.ndim != 1:\n",
      "            raise TypeError(\"expected a 1-d array for weights\")\n",
      "        if w.shape[0] != y.shape[0]:\n",
      "            raise TypeError(\"expected w and y to have the same length\")\n",
      "        lhs *= w[:, NX.newaxis]\n",
      "        if rhs.ndim == 2:\n",
      "            rhs *= w[:, NX.newaxis]\n",
      "        else:\n",
      "            rhs *= w\n",
      "\n",
      "    # scale lhs to improve condition number and solve\n",
      "    scale = NX.sqrt((lhs*lhs).sum(axis=0))\n",
      "    lhs /= scale\n",
      "    c, resids, rank, s = lstsq(lhs, rhs, rcond)\n",
      "    c = (c.T/scale).T  # broadcast scale coefficients\n",
      "\n",
      "    # warn on rank reduction, which indicates an ill conditioned matrix\n",
      "    if rank != order and not full:\n",
      "        msg = \"Polyfit may be poorly conditioned\"\n",
      "        warnings.warn(msg, RankWarning, stacklevel=4)\n",
      "\n",
      "    if full:\n",
      "        return c, resids, rank, s, rcond\n",
      "    elif cov:\n",
      "        Vbase = inv(dot(lhs.T, lhs))\n",
      "        Vbase /= NX.outer(scale, scale)\n",
      "        if cov == \"unscaled\":\n",
      "            fac = 1\n",
      "        else:\n",
      "            if len(x) <= order:\n",
      "                raise ValueError(\"the number of data points must exceed order \"\n",
      "                                 \"to scale the covariance matrix\")\n",
      "            # note, this used to be: fac = resids / (len(x) - order - 2.0)\n",
      "            # it was deciced that the \"- 2\" (originally justified by \"Bayesian\n",
      "            # uncertainty analysis\") is not was the user expects\n",
      "            # (see gh-11196 and gh-11197)\n",
      "            fac = resids / (len(x) - order)\n",
      "        if y.ndim == 1:\n",
      "            return c, Vbase * fac\n",
      "        else:\n",
      "            return c, Vbase[:,:, NX.newaxis] * fac\n",
      "    else:\n",
      "        return c\n",
      "\n"
     ]
    }
   ],
   "source": [
    "import inspect\n",
    "#numpy.polyfit(x, y, deg, rcond=None, full=False, w=None, cov=False)\n",
    "print(inspect.getsource(np.polyfit))"
   ]
  },
  {
   "cell_type": "markdown",
   "metadata": {},
   "source": [
    "**Doing it myself**"
   ]
  },
  {
   "cell_type": "code",
   "execution_count": 26,
   "metadata": {},
   "outputs": [
    {
     "name": "stdout",
     "output_type": "stream",
     "text": [
      "[ 2.23992083 34.04772776] 0.12450117990206237 21.07681615343423\n"
     ]
    }
   ],
   "source": [
    "def leastsquares(xdata,ydata, w):\n",
    "    x = np.asarray(xdata, dtype=float) \n",
    "    y = np.asarray(ydata, dtype=float) \n",
    "    w=np.asarray(w, dtype=float)\n",
    "    order = 2\n",
    "    # set up least squares equation for powers of x\n",
    "    lhs = np.vander(x, order)\n",
    "    rhs = y\n",
    "     # apply weighting\n",
    "    lhs *= w[:, np.newaxis]\n",
    "    rhs *= w  \n",
    "\n",
    "    # scale lhs to improve condition number and solve\n",
    "    scale = np.sqrt((lhs*lhs).sum(axis=0))\n",
    "    lhs =lhs / scale\n",
    "    c, resids, rank, s = lstsq(lhs, rhs, rcond=None)\n",
    "    c = (c.T/scale).T  # broadcast scale coefficients\n",
    "    Vbase = (inv(np.dot(lhs.T, lhs)))/(np.outer(scale, scale))\n",
    "    fac = resids / (len(x) - order)\n",
    "    V=Vbase*fac\n",
    "    um,ub =(np.sqrt(np.diag(V)))\n",
    "    return(c, um, ub)\n",
    "ans=leastsquares(x1data, y1data, 1/sigy1data)\n",
    "\n",
    "c1=ans[0]\n",
    "um=ans[1]\n",
    "ub=ans[2]\n",
    "print(c1,um,ub)\n",
    "\n",
    "m1=c1[0]\n",
    "b1=c1[1]"
   ]
  },
  {
   "cell_type": "code",
   "execution_count": 27,
   "metadata": {},
   "outputs": [
    {
     "data": {
      "image/png": "[encoded data removed]",
      "text/plain": [
       "<Figure size 432x288 with 1 Axes>"
      ]
     },
     "metadata": {
      "needs_background": "light"
     },
     "output_type": "display_data"
    },
    {
     "name": "stdout",
     "output_type": "stream",
     "text": [
      "σ² = 0.12450117990206237\n",
      "y =  2.2399208316310952 ± 0.062250589951031186 *x + 34.04772775754198 ± 10.538408076717115\n"
     ]
    }
   ],
   "source": [
    "plt.plot(x1, m1*x1+b1, \"-r\", label='y= '+str(round(m1, 2))+'x + '+str(round(b1, 2)))  \n",
    "plt.scatter(x1data, y1data)\n",
    "plt.errorbar(x1data,y1data,yerr=sigy1data, ls='none') \n",
    "plt.title(\"Least Square Fit to Data 5:20\")\n",
    "plt.xlabel('x')\n",
    "plt.ylabel('y')\n",
    "plt.legend(loc='upper left')\n",
    "plt.grid()\n",
    "plt.show()\n",
    "\n",
    "print(u\"\\u03C3\\u00b2 =\", um)#\\u00bm')\n",
    "print(\"y = \", m1, u\"\\u00B1\", um/2, \"*x +\", b1, u\"\\u00B1\", ub/2)"
   ]
  },
  {
   "cell_type": "markdown",
   "metadata": {},
   "source": [
    "**Exercise 2:** Repeat Exercise 1 but for all the data points in Table 1 on\n",
    "page 6. Your plot should end up looking like Figure 2. What is the standard\n",
    "uncertainty variance $σ_m^2$ on the slope of the line? Is there anything you don’t\n",
    "like about the result? Is there anything different about the new points you\n",
    "have included beyond those used in Exercise 1?"
   ]
  },
  {
   "cell_type": "code",
   "execution_count": 28,
   "metadata": {},
   "outputs": [
    {
     "name": "stdout",
     "output_type": "stream",
     "text": [
      "[2.88100230e-01 3.99645487e+02] 0.5274174430423343 93.62529697425269\n"
     ]
    }
   ],
   "source": [
    "x2data=data1[0][:]\n",
    "y2data=data1[1][:]\n",
    "sigy2data=data1[2][:]\n",
    "ans=leastsquares(x2data, y2data,sigy2data)\n",
    "\n",
    "c2=ans[0]\n",
    "um2=ans[1]\n",
    "ub2=ans[2]\n",
    "print(c2,um2,ub2)\n",
    "\n",
    "m2=c2[0]\n",
    "b2=c2[1]"
   ]
  },
  {
   "cell_type": "code",
   "execution_count": 29,
   "metadata": {},
   "outputs": [
    {
     "data": {
      "image/png": "[encoded data removed]",
      "text/plain": [
       "<Figure size 432x288 with 1 Axes>"
      ]
     },
     "metadata": {
      "needs_background": "light"
     },
     "output_type": "display_data"
    },
    {
     "name": "stdout",
     "output_type": "stream",
     "text": [
      "σ² of the slope= 0.5274174430423343\n",
      "y =  0.2881002298973104 ± 0.26370872152116714 *x + 399.6454866917888 ± 46.812648487126346\n"
     ]
    }
   ],
   "source": [
    "plt.plot(x1, m2*x1+b2, \"-r\", label='y= '+str(round(m2, 2))+'x + '+str(round(b2, 2)))  \n",
    "plt.scatter(x2data, y2data)\n",
    "plt.errorbar(x2data,y2data,yerr=sigy2data, ls='none') \n",
    "plt.title(\"Least Square Fit to Data\")\n",
    "plt.xlabel('x')\n",
    "plt.ylabel('y')\n",
    "plt.legend(loc='upper left')\n",
    "plt.grid()\n",
    "plt.show()\n",
    "print(u\"\\u03C3\\u00b2 of the slope=\", um2)#\\u00bm')\n",
    "print(\"y = \", m2, u\"\\u00B1\", um2/2, \"*x +\", b2, u\"\\u00B1\", ub2/2)"
   ]
  },
  {
   "cell_type": "markdown",
   "metadata": {},
   "source": [
    "The varience is way higher here, because the first four points are 'outliers', messing with the straight line fit of the data. This is generally unwanted."
   ]
  },
  {
   "cell_type": "markdown",
   "metadata": {},
   "source": [
    "**Exercise 3:** Generalize the method of this Section to fit a general quadratic\n",
    "(second order) relationship. Add another column to matrix A containing the\n",
    "values $x^2_i$, and another element to vector X (call it q). Then re-do Exercise 1\n",
    "but fitting for and plotting the best quadratic relationship $g(x) = q x^2 + m x + b $."
   ]
  },
  {
   "cell_type": "markdown",
   "metadata": {},
   "source": [
    "**Doing it with polyfit**"
   ]
  },
  {
   "cell_type": "code",
   "execution_count": 30,
   "metadata": {},
   "outputs": [
    {
     "name": "stdout",
     "output_type": "stream",
     "text": [
      "0.003790679240623569 1.1121796698651079 101.51296902325933\n",
      "[[ 1.20060990e-05 -3.49817318e-03  2.30163873e-01]\n",
      " [-3.49817318e-03  1.05619443e+00 -7.32594467e+01]\n",
      " [ 2.30163873e-01 -7.32594467e+01  5.50985281e+03]]\n",
      "0.0034649818157706383 1.0277132062589271 74.2283827733187\n"
     ]
    },
    {
     "data": {
      "image/png": "[encoded data removed]",
      "text/plain": [
       "<Figure size 432x288 with 1 Axes>"
      ]
     },
     "metadata": {
      "needs_background": "light"
     },
     "output_type": "display_data"
    }
   ],
   "source": [
    "q, m, b = np.polyfit(x1data, y1data, 2)\n",
    "print(q,m,b)\n",
    "\n",
    "p, cov = np.polyfit(x1data, y1data, 2, cov=True)\n",
    "print(cov)\n",
    "uncertainq, uncertainm,uncertainb =(np.sqrt(np.diag(cov)))\n",
    "print(uncertainq, uncertainm,uncertainb)\n",
    "\n",
    "\n",
    "x1 = np.linspace(0,300,300)\n",
    "y1 = q*x1**2+m*x1+b\n",
    "\n",
    "plt.plot(x1, y1, \"-r\")  \n",
    "plt.scatter(x1data, y1data)\n",
    "plt.errorbar(x1data,y1data,yerr=sigy1data, ls='none') \n",
    "plt.title(\"Quad Polyline Fit to Data\")\n",
    "plt.xlabel('x')\n",
    "plt.ylabel('y')\n",
    "plt.grid()\n",
    "plt.show()"
   ]
  },
  {
   "cell_type": "markdown",
   "metadata": {},
   "source": [
    "**Doing it myself**"
   ]
  },
  {
   "cell_type": "code",
   "execution_count": 31,
   "metadata": {},
   "outputs": [],
   "source": [
    "import numpy.core.numeric as NX\n",
    "\n",
    "def leastsquarequad(xdata,ydata, w):\n",
    "    x = NX.asarray(xdata) +0.0\n",
    "    y = NX.asarray(ydata) +0.0\n",
    "    order = 3\n",
    "    # set rcond\n",
    "    rcond = len(x)*np.finfo(x.dtype).eps\n",
    "    # set up least squares equation for powers of x\n",
    "    lhs = np.vander(x, order)\n",
    "    rhs = y\n",
    "    #apply weighting\n",
    "    lhs *= w[:, np.newaxis]\n",
    "    rhs *= w  \n",
    "    # scale lhs to improve condition number and solve\n",
    "    scale = NX.sqrt((lhs*lhs).sum(axis=0))\n",
    "    lhs =lhs / scale\n",
    "    c, resids, rank, s = lstsq(lhs, rhs, rcond)\n",
    "    c = (c.T/scale).T  # broadcast scale coefficients\n",
    "    Vbase = (inv(np.dot(lhs.T, lhs)))/(np.outer(scale, scale))\n",
    "    fac = resids / (len(x) - order)\n",
    "    V=Vbase*fac\n",
    "    uq,um,ub =(np.sqrt(np.diag(V)))\n",
    "    return(c,uq, um, ub)\n"
   ]
  },
  {
   "cell_type": "code",
   "execution_count": 32,
   "metadata": {},
   "outputs": [
    {
     "name": "stdout",
     "output_type": "stream",
     "text": [
      "[2.29888841e-03 1.59605045e+00 7.28946265e+01] 0.00235322421344217 0.6707824980990685 45.02161997442122\n",
      "0.0022988884081216365 1.5960504522746781 72.8946264716661\n"
     ]
    }
   ],
   "source": [
    "ansquad=leastsquarequad(x1data, y1data, 1/sigy1data)\n",
    "\n",
    "\n",
    "c3=ansquad[0]\n",
    "uq3=ansquad[1]\n",
    "um3=ansquad[2]\n",
    "ub3=ansquad[3]\n",
    "print(c3,uq3, um3,ub3)\n",
    "\n",
    "q3=c3[0]\n",
    "m3=c3[1]\n",
    "b3=c3[2]\n",
    "print(q3, m3, b3)"
   ]
  },
  {
   "cell_type": "code",
   "execution_count": 33,
   "metadata": {},
   "outputs": [
    {
     "data": {
      "image/png": "[encoded data removed]",
      "text/plain": [
       "<Figure size 432x288 with 1 Axes>"
      ]
     },
     "metadata": {
      "needs_background": "light"
     },
     "output_type": "display_data"
    }
   ],
   "source": [
    "\n",
    "x3 = np.linspace(0,300,300)\n",
    "y3 = q3*x3**2+m3*x3+b3\n",
    "\n",
    "plt.plot(x3, y3, \"-r\", label='y= '+str(round(q3, 4))+'x^2 +'+str(round(m3, 2))+'x + '+str(round(b3, 2)))  \n",
    "plt.scatter(x1data, y1data)\n",
    "plt.errorbar(x1data,y1data,yerr=sigy1data, ls='none') \n",
    "plt.title(\"Least Square Quadratic Fit to Data\")\n",
    "plt.xlabel('x')\n",
    "plt.ylabel('y')\n",
    "plt.legend()\n",
    "plt.grid()\n",
    "plt.show()"
   ]
  },
  {
   "cell_type": "code",
   "execution_count": 34,
   "metadata": {},
   "outputs": [
    {
     "name": "stdout",
     "output_type": "stream",
     "text": [
      "σ² of q= 0.00235322421344217\n",
      "σ² of m= 0.6707824980990685\n",
      "σ² of b= 45.02161997442122\n",
      "y =  0.0022988884081216365 ± 0.001176612106721085 x^2 + 1.5960504522746781 ± 0.33539124904953427 *x + 72.8946264716661 ± 22.51080998721061\n"
     ]
    }
   ],
   "source": [
    "print(u\"\\u03C3\\u00b2 of q=\", uq3)\n",
    "print(u\"\\u03C3\\u00b2 of m=\", um3) \n",
    "print(u\"\\u03C3\\u00b2 of b=\", ub3)\n",
    "print(\"y = \", q3, u\"\\u00B1\", uq3/2, \"x^2 +\", m3, u\"\\u00B1\", um3/2, \"*x +\", b3, u\"\\u00B1\", ub3/2)"
   ]
  },
  {
   "cell_type": "markdown",
   "metadata": {},
   "source": [
    "**Exercise 8:** Compute the standard uncertainty $σ_m^2$ obtained for the slope of the line found by the standard fit you did in Exercise 2. Now make jackknife (20 trials) and bootstrap estimates for the uncertainty $σ_m^2$. How do the uncertainties compare and which seems most reasonable, given the data and uncertainties on the data?\n",
    "\n",
    "**Answer**\n",
    "\n",
    "$σ_m^2$= 0.40190664350491456\n",
    "\n",
    "slope=  0.6320115359280863 \n"
   ]
  },
  {
   "cell_type": "code",
   "execution_count": 35,
   "metadata": {},
   "outputs": [
    {
     "name": "stdout",
     "output_type": "stream",
     "text": [
      "the standard uncertainty from exercise 2 is 0.5274174430423343\n"
     ]
    }
   ],
   "source": [
    "print(\"the standard uncertainty from exercise 2 is\", um2)"
   ]
  },
  {
   "cell_type": "code",
   "execution_count": 44,
   "metadata": {},
   "outputs": [
    {
     "name": "stdout",
     "output_type": "stream",
     "text": [
      "[2.88100230e-01 3.99645487e+02] 0.5274174430423343 93.62529697425269\n"
     ]
    }
   ],
   "source": [
    "x2data=data1[0][:]\n",
    "y2data=data1[1][:]\n",
    "y2err=data1[2][:]\n",
    "ans=leastsquares(x2data, y2data,y2err)\n",
    "\n",
    "c2=ans[0]\n",
    "um2=ans[1]\n",
    "ub2=ans[2]\n",
    "print(c2,um2,ub2)\n",
    "\n",
    "m2=c2[0]\n",
    "b2=c2[1]"
   ]
  },
  {
   "cell_type": "code",
   "execution_count": 54,
   "metadata": {},
   "outputs": [
    {
     "name": "stdout",
     "output_type": "stream",
     "text": [
      "Bootstrap Slope \n",
      " [-6.99060259e-01  1.59616588e+00 -3.70676565e-01  1.30727633e+00\n",
      "  2.23502247e+00  1.14034970e+00  4.87616051e-01 -3.95315391e-02\n",
      "  2.79867289e+00  1.59300296e+00 -3.74043366e-01 -7.23994707e-01\n",
      "  1.72432539e-01  1.12865586e+00 -3.51035406e-01  8.38790641e-01\n",
      "  2.94996816e-01  5.48995443e-01  2.36419057e+00  3.74097432e-01\n",
      "  1.77167147e+00 -4.34340736e-01  1.88737443e-02 -3.48027389e-01\n",
      "  7.75614596e-01 -1.41334144e-01 -6.25027362e-01 -1.26203126e-01\n",
      "  2.98219948e+00  2.27381277e-02 -1.52730824e-01  7.42978150e-02\n",
      "  5.03001181e-01  3.23415288e+00  1.40452916e+00 -9.62049645e-01\n",
      " -3.46029780e-01  2.03145437e-01  7.28191706e-02 -2.42987189e-01\n",
      "  2.07287764e+00 -3.45215999e-02  1.98559004e+00  3.01284996e-01\n",
      " -5.39769901e-01 -4.66329230e-01  9.77354700e-01  6.72144377e-01\n",
      "  2.92508196e-01 -4.47190098e-01 -2.60962806e-01  1.83518960e+00\n",
      " -3.27328720e-01 -1.19889471e-02 -5.07985340e-02  2.54664121e+00\n",
      "  3.33022420e-01  7.19027812e-01  2.21001913e+00  1.79252568e+00\n",
      "  2.05122218e+00  2.99560464e+00 -2.26528735e-01 -1.67316136e-01\n",
      "  1.04424304e+00 -1.61841423e-01  4.95880090e-01 -5.77948851e-01\n",
      "  1.36939469e+00  2.54709877e+00  2.72359360e-01  1.23297675e+00\n",
      "  1.46923800e-02 -2.49037893e-01 -7.17785455e-01 -8.87235824e-02\n",
      "  2.78438812e+00 -6.09601018e-01  2.85815233e+00  6.09596669e-02\n",
      " -9.95212474e-01  1.15500182e+00  4.06588993e-01  2.50954348e-03\n",
      " -2.02439093e-01  7.88210457e-01  8.17070987e-01  3.38052354e-01\n",
      "  1.62818441e+00 -8.83249484e-01 -2.65140016e-01 -3.82427127e-01\n",
      " -2.51188019e-01  3.16008626e+00  1.00398026e+00  8.68055936e-02\n",
      "  6.18186263e-01  1.31675606e-02 -2.16450337e-01  1.58299673e+00]\n"
     ]
    }
   ],
   "source": [
    "import random\n",
    "# Bootstrap standard uncertainty variance for slope\n",
    "\n",
    "bsSlope = np.zeros(100)\n",
    "for i in range(100):\n",
    "    xVals=np.zeros(20)\n",
    "    yVals = np.zeros(20)\n",
    "    yError = np.zeros(20)\n",
    "    for j in range(20):\n",
    "        index = random.randint(0,19)\n",
    "        xVals[j] = data1[0][index]\n",
    "        yVals[j] = data1[1][index]\n",
    "        yError[j] = data1[2][index]\n",
    "    ans8=leastsquares(xVals, yVals, yError)\n",
    "    c2add=ans8[0]\n",
    "    m2add=c2add[0]\n",
    "    bsSlope[i] +=m2add\n",
    "print(\"Bootstrap Slope \\n\", bsSlope)"
   ]
  },
  {
   "cell_type": "code",
   "execution_count": 55,
   "metadata": {},
   "outputs": [
    {
     "name": "stdout",
     "output_type": "stream",
     "text": [
      "1.0764141834229468\n"
     ]
    }
   ],
   "source": [
    "#bsSlope -= m2\n",
    "bootstrap = np.sum((bsSlope*-m2)**2)/20\n",
    "bootstrap = np.std(bsSlope)\n",
    "\n",
    "print(bootstrap)"
   ]
  },
  {
   "cell_type": "code",
   "execution_count": 62,
   "metadata": {},
   "outputs": [
    {
     "name": "stdout",
     "output_type": "stream",
     "text": [
      "[244 244  47 287 203  58 210 202 198 158 165 201 157 131 166 160 186 125\n",
      " 218 146]\n",
      "[244 203  47 287 203  58 210 202 198 158 165 201 157 131 166 160 186 125\n",
      " 218 146]\n",
      "[244 203  58 287 203  58 210 202 198 158 165 201 157 131 166 160 186 125\n",
      " 218 146]\n",
      "[244 203  58 218 203  58 210 202 198 158 165 201 157 131 166 160 186 125\n",
      " 218 146]\n",
      "[244 203  58 218 165  58 210 202 198 158 165 201 157 131 166 160 186 125\n",
      " 218 146]\n",
      "[244 203  58 218 165 244 210 202 198 158 165 201 157 131 166 160 186 125\n",
      " 218 146]\n",
      "[244 203  58 218 165 244 186 202 198 158 165 201 157 131 166 160 186 125\n",
      " 218 146]\n",
      "[244 203  58 218 165 244 186 131 198 158 165 201 157 131 166 160 186 125\n",
      " 218 146]\n",
      "[244 203  58 218 165 244 186 131 186 158 165 201 157 131 166 160 186 125\n",
      " 218 146]\n",
      "[244 203  58 218 165 244 186 131 186 157 165 201 157 131 166 160 186 125\n",
      " 218 146]\n",
      "[244 203  58 218 165 244 186 131 186 157 125 201 157 131 166 160 186 125\n",
      " 218 146]\n",
      "[244 203  58 218 165 244 186 131 186 157 125 131 157 131 166 160 186 125\n",
      " 218 146]\n",
      "[244 203  58 218 165 244 186 131 186 157 125 131 131 131 166 160 186 125\n",
      " 218 146]\n",
      "[244 203  58 218 165 244 186 131 186 157 125 131 131 131 166 160 186 125\n",
      " 218 146]\n",
      "[244 203  58 218 165 244 186 131 186 157 125 131 131 131 125 160 186 125\n",
      " 218 146]\n",
      "[244 203  58 218 165 244 186 131 186 157 125 131 131 131 125 125 186 125\n",
      " 218 146]\n",
      "[244 203  58 218 165 244 186 131 186 157 125 131 131 131 125 125 244 125\n",
      " 218 146]\n",
      "[244 203  58 218 165 244 186 131 186 157 125 131 131 131 125 125 244 203\n",
      " 218 146]\n",
      "[244 203  58 218 165 244 186 131 186 157 125 131 131 131 125 125 244 203\n",
      " 146 146]\n",
      "[244 203  58 218 165 244 186 131 186 157 125 131 131 131 125 125 244 203\n",
      " 146 244]\n",
      "[1.06807405 0.         0.         0.         0.         0.\n",
      " 0.         0.         0.         0.         0.         0.\n",
      " 0.         0.         0.         0.         0.         0.\n",
      " 0.         0.        ]\n",
      "2.0761226590945707\n"
     ]
    }
   ],
   "source": [
    "jkSlope = np.zeros(20)\n",
    "xVals=x2data\n",
    "yVals = y2data\n",
    "yError = y2err\n",
    "for j in range(20):\n",
    "    index = random.randint(0,19)\n",
    "    xVals[j] = data1[0][index]\n",
    "    yVals[j] = data1[1][index]\n",
    "    yError[j] = data1[2][index]\n",
    "    jackX = np.delete(xVals,i)\n",
    "    jackY = np.delete(yVals,i)\n",
    "    jackErr = np.delete(yError, i)\n",
    "    ansj=leastsquares(xVals, yVals, yError)\n",
    "    cj=ansj[0]\n",
    "    mj=cj[0]\n",
    "    jkSlope[i] =mj\n",
    "print(jkSlope)\n",
    "\n",
    "jackknife = np.sum((jkSlope-m2)**2)*(19/20)\n",
    "print(jackknife)"
   ]
  },
  {
   "cell_type": "code",
   "execution_count": 49,
   "metadata": {},
   "outputs": [
    {
     "ename": "NameError",
     "evalue": "name 'data' is not defined",
     "output_type": "error",
     "traceback": [
      "\u001b[1;31m---------------------------------------------------------------------------\u001b[0m",
      "\u001b[1;31mNameError\u001b[0m                                 Traceback (most recent call last)",
      "\u001b[1;32m<ipython-input-49-dea282a35b8c>\u001b[0m in \u001b[0;36m<module>\u001b[1;34m\u001b[0m\n\u001b[0;32m      1\u001b[0m \u001b[0mjackknifeSlope\u001b[0m \u001b[1;33m=\u001b[0m \u001b[0mnp\u001b[0m\u001b[1;33m.\u001b[0m\u001b[0mones\u001b[0m\u001b[1;33m(\u001b[0m\u001b[1;36m20\u001b[0m\u001b[1;33m)\u001b[0m\u001b[1;33m\u001b[0m\u001b[1;33m\u001b[0m\u001b[0m\n\u001b[0;32m      2\u001b[0m \u001b[1;32mfor\u001b[0m \u001b[0mi\u001b[0m \u001b[1;32min\u001b[0m \u001b[0mrange\u001b[0m\u001b[1;33m(\u001b[0m\u001b[1;36m20\u001b[0m\u001b[1;33m)\u001b[0m\u001b[1;33m:\u001b[0m\u001b[1;33m\u001b[0m\u001b[1;33m\u001b[0m\u001b[0m\n\u001b[1;32m----> 3\u001b[1;33m   \u001b[0mxVals\u001b[0m\u001b[1;33m[\u001b[0m\u001b[0mj\u001b[0m\u001b[1;33m]\u001b[0m \u001b[1;33m=\u001b[0m \u001b[0mdata\u001b[0m\u001b[1;33m[\u001b[0m\u001b[1;36m0\u001b[0m\u001b[1;33m]\u001b[0m\u001b[1;33m[\u001b[0m\u001b[0mindex\u001b[0m\u001b[1;33m]\u001b[0m\u001b[1;33m\u001b[0m\u001b[1;33m\u001b[0m\u001b[0m\n\u001b[0m\u001b[0;32m      4\u001b[0m   \u001b[0myVals\u001b[0m\u001b[1;33m[\u001b[0m\u001b[0mj\u001b[0m\u001b[1;33m]\u001b[0m \u001b[1;33m=\u001b[0m \u001b[0mdata\u001b[0m\u001b[1;33m[\u001b[0m\u001b[1;36m1\u001b[0m\u001b[1;33m]\u001b[0m\u001b[1;33m[\u001b[0m\u001b[0mindex\u001b[0m\u001b[1;33m]\u001b[0m\u001b[1;33m\u001b[0m\u001b[1;33m\u001b[0m\u001b[0m\n\u001b[0;32m      5\u001b[0m   \u001b[0myError\u001b[0m\u001b[1;33m[\u001b[0m\u001b[0mj\u001b[0m\u001b[1;33m]\u001b[0m \u001b[1;33m=\u001b[0m \u001b[0mdata\u001b[0m\u001b[1;33m[\u001b[0m\u001b[1;36m2\u001b[0m\u001b[1;33m]\u001b[0m\u001b[1;33m[\u001b[0m\u001b[0mindex\u001b[0m\u001b[1;33m]\u001b[0m\u001b[1;33m\u001b[0m\u001b[1;33m\u001b[0m\u001b[0m\n",
      "\u001b[1;31mNameError\u001b[0m: name 'data' is not defined"
     ]
    }
   ],
   "source": [
    "jackknifeSlope = np.ones(20)\n",
    "for i in range(20):\n",
    "  xVals[j] = data[0][index]\n",
    "  yVals[j] = data[1][index]\n",
    "  yError[j] = data[2][index]\n",
    "  jackX = np.delete(xVals,i)\n",
    "  jackY = np.delete(yVals,i)\n",
    "  jackCov = np.delete(yError,i)\n",
    "  \n",
    "  jackknifeSlope[i] = bestFit(jackX, jackY, jackCov)\n",
    "\n",
    "  \n",
    "jackknifeSlope -= slope_two\n",
    "\n",
    "jackknife = np.sum(jackknifeSlope*jackknifeSlope)*(19/20)\n",
    "\n",
    "print(jackknife)"
   ]
  },
  {
   "cell_type": "code",
   "execution_count": 42,
   "metadata": {},
   "outputs": [],
   "source": [
    "funct= m2*x1+b2"
   ]
  },
  {
   "cell_type": "code",
   "execution_count": null,
   "metadata": {},
   "outputs": [],
   "source": [
    "def jackknife(x, funct):\n",
    "    \"\"\"Jackknife estimate of the estimator func\"\"\"\n",
    "    n = len(x)\n",
    "    idx = np.arange(n)\n",
    "    return np.sum(funct(x[idx!=i]) for i in range(n))/float(n)\n",
    "\n",
    "# Jackknife estimate of standard deviation\n",
    "x = np.random.normal(0, 2, 100)\n",
    "jackknife(x, np.std)"
   ]
  },
  {
   "cell_type": "code",
   "execution_count": null,
   "metadata": {},
   "outputs": [],
   "source": [
    "def jackknife_uncertainty(x, funct):\n",
    "    \"\"\"Jackknife estiamte of the variance of the estimator func.\"\"\"\n",
    "    n = len(x)\n",
    "    idx = np.arange(n)\n",
    "    j_est = jackknife(x, funct)\n",
    "    return (n-1)/(n + 0.0) * np.sum((funct(x[idx!=i]) - j_est)**2.0\n",
    "                                    for i in range(n))\n",
    "\n",
    "# estimate of the variance of an estimator\n",
    "jackknife_uncertainty(x, np.std)"
   ]
  },
  {
   "cell_type": "code",
   "execution_count": null,
   "metadata": {},
   "outputs": [],
   "source": []
  }
 ],
 "metadata": {
  "kernelspec": {
   "display_name": "Python 3",
   "language": "python",
   "name": "python3"
  },
  "language_info": {
   "codemirror_mode": {
    "name": "ipython",
    "version": 3
   },
   "file_extension": ".py",
   "mimetype": "text/x-python",
   "name": "python",
   "nbconvert_exporter": "python",
   "pygments_lexer": "ipython3",
   "version": "3.8.5"
  }
 },
 "nbformat": 4,
 "nbformat_minor": 4
}
